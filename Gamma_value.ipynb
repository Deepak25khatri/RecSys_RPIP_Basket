{
 "cells": [
  {
   "cell_type": "code",
   "execution_count": 1,
   "metadata": {},
   "outputs": [
    {
     "name": "stdout",
     "output_type": "stream",
     "text": [
      "Requirement already satisfied: pandas in /Library/Frameworks/Python.framework/Versions/3.11/lib/python3.11/site-packages (2.2.1)\n",
      "Requirement already satisfied: numpy<2,>=1.23.2 in /Library/Frameworks/Python.framework/Versions/3.11/lib/python3.11/site-packages (from pandas) (1.26.4)\n",
      "Requirement already satisfied: python-dateutil>=2.8.2 in /Users/deepak/Library/Python/3.11/lib/python/site-packages (from pandas) (2.9.0.post0)\n",
      "Requirement already satisfied: pytz>=2020.1 in /Library/Frameworks/Python.framework/Versions/3.11/lib/python3.11/site-packages (from pandas) (2024.1)\n",
      "Requirement already satisfied: tzdata>=2022.7 in /Library/Frameworks/Python.framework/Versions/3.11/lib/python3.11/site-packages (from pandas) (2024.1)\n",
      "Requirement already satisfied: six>=1.5 in /Users/deepak/Library/Python/3.11/lib/python/site-packages (from python-dateutil>=2.8.2->pandas) (1.16.0)\n",
      "Note: you may need to restart the kernel to use updated packages.\n"
     ]
    }
   ],
   "source": [
    "pip install pandas\n"
   ]
  },
  {
   "cell_type": "code",
   "execution_count": 2,
   "metadata": {
    "id": "JBT0SB-_rMAW"
   },
   "outputs": [],
   "source": [
    "import pandas as pd\n",
    "import numpy as np\n",
    "\n",
    "\n",
    "df = pd.read_csv('/Users/deepak/Desktop/study material/mtech:sem1/sem 2/RecSyst/ta_feng_all_months_merged.csv')\n",
    "\n",
    "df_sample = df.sample(n=50000, random_state=42)"
   ]
  },
  {
   "cell_type": "code",
   "execution_count": 3,
   "metadata": {},
   "outputs": [
    {
     "data": {
      "text/html": [
       "<div>\n",
       "<style scoped>\n",
       "    .dataframe tbody tr th:only-of-type {\n",
       "        vertical-align: middle;\n",
       "    }\n",
       "\n",
       "    .dataframe tbody tr th {\n",
       "        vertical-align: top;\n",
       "    }\n",
       "\n",
       "    .dataframe thead th {\n",
       "        text-align: right;\n",
       "    }\n",
       "</style>\n",
       "<table border=\"1\" class=\"dataframe\">\n",
       "  <thead>\n",
       "    <tr style=\"text-align: right;\">\n",
       "      <th></th>\n",
       "      <th>TRANSACTION_DT</th>\n",
       "      <th>CUSTOMER_ID</th>\n",
       "      <th>AGE_GROUP</th>\n",
       "      <th>PIN_CODE</th>\n",
       "      <th>PRODUCT_SUBCLASS</th>\n",
       "      <th>PRODUCT_ID</th>\n",
       "      <th>AMOUNT</th>\n",
       "      <th>ASSET</th>\n",
       "      <th>SALES_PRICE</th>\n",
       "    </tr>\n",
       "  </thead>\n",
       "  <tbody>\n",
       "    <tr>\n",
       "      <th>0</th>\n",
       "      <td>11/1/2000</td>\n",
       "      <td>1104905</td>\n",
       "      <td>45-49</td>\n",
       "      <td>115</td>\n",
       "      <td>110411</td>\n",
       "      <td>4710199010372</td>\n",
       "      <td>2</td>\n",
       "      <td>24</td>\n",
       "      <td>30</td>\n",
       "    </tr>\n",
       "    <tr>\n",
       "      <th>1</th>\n",
       "      <td>11/1/2000</td>\n",
       "      <td>418683</td>\n",
       "      <td>45-49</td>\n",
       "      <td>115</td>\n",
       "      <td>120107</td>\n",
       "      <td>4710857472535</td>\n",
       "      <td>1</td>\n",
       "      <td>48</td>\n",
       "      <td>46</td>\n",
       "    </tr>\n",
       "    <tr>\n",
       "      <th>2</th>\n",
       "      <td>11/1/2000</td>\n",
       "      <td>1057331</td>\n",
       "      <td>35-39</td>\n",
       "      <td>115</td>\n",
       "      <td>100407</td>\n",
       "      <td>4710043654103</td>\n",
       "      <td>2</td>\n",
       "      <td>142</td>\n",
       "      <td>166</td>\n",
       "    </tr>\n",
       "    <tr>\n",
       "      <th>3</th>\n",
       "      <td>11/1/2000</td>\n",
       "      <td>1849332</td>\n",
       "      <td>45-49</td>\n",
       "      <td>Others</td>\n",
       "      <td>120108</td>\n",
       "      <td>4710126092129</td>\n",
       "      <td>1</td>\n",
       "      <td>32</td>\n",
       "      <td>38</td>\n",
       "    </tr>\n",
       "    <tr>\n",
       "      <th>4</th>\n",
       "      <td>11/1/2000</td>\n",
       "      <td>1981995</td>\n",
       "      <td>50-54</td>\n",
       "      <td>115</td>\n",
       "      <td>100205</td>\n",
       "      <td>4710176021445</td>\n",
       "      <td>1</td>\n",
       "      <td>14</td>\n",
       "      <td>18</td>\n",
       "    </tr>\n",
       "  </tbody>\n",
       "</table>\n",
       "</div>"
      ],
      "text/plain": [
       "  TRANSACTION_DT  CUSTOMER_ID AGE_GROUP PIN_CODE  PRODUCT_SUBCLASS  \\\n",
       "0      11/1/2000      1104905     45-49      115            110411   \n",
       "1      11/1/2000       418683     45-49      115            120107   \n",
       "2      11/1/2000      1057331     35-39      115            100407   \n",
       "3      11/1/2000      1849332     45-49   Others            120108   \n",
       "4      11/1/2000      1981995     50-54      115            100205   \n",
       "\n",
       "      PRODUCT_ID  AMOUNT  ASSET  SALES_PRICE  \n",
       "0  4710199010372       2     24           30  \n",
       "1  4710857472535       1     48           46  \n",
       "2  4710043654103       2    142          166  \n",
       "3  4710126092129       1     32           38  \n",
       "4  4710176021445       1     14           18  "
      ]
     },
     "execution_count": 3,
     "metadata": {},
     "output_type": "execute_result"
    }
   ],
   "source": [
    "df.head()"
   ]
  },
  {
   "cell_type": "code",
   "execution_count": 4,
   "metadata": {
    "colab": {
     "base_uri": "https://localhost:8080/",
     "height": 206
    },
    "id": "Iipa8PB_rTdb",
    "outputId": "65c7bd21-784b-4b93-daa3-3ebc9d6fa95a"
   },
   "outputs": [
    {
     "data": {
      "text/html": [
       "<div>\n",
       "<style scoped>\n",
       "    .dataframe tbody tr th:only-of-type {\n",
       "        vertical-align: middle;\n",
       "    }\n",
       "\n",
       "    .dataframe tbody tr th {\n",
       "        vertical-align: top;\n",
       "    }\n",
       "\n",
       "    .dataframe thead th {\n",
       "        text-align: right;\n",
       "    }\n",
       "</style>\n",
       "<table border=\"1\" class=\"dataframe\">\n",
       "  <thead>\n",
       "    <tr style=\"text-align: right;\">\n",
       "      <th></th>\n",
       "      <th>TRANSACTION_DT</th>\n",
       "      <th>CUSTOMER_ID</th>\n",
       "      <th>PRODUCT_ID</th>\n",
       "      <th>AMOUNT</th>\n",
       "    </tr>\n",
       "  </thead>\n",
       "  <tbody>\n",
       "    <tr>\n",
       "      <th>0</th>\n",
       "      <td>2000-11-27</td>\n",
       "      <td>1113</td>\n",
       "      <td>4710905340113</td>\n",
       "      <td>1</td>\n",
       "    </tr>\n",
       "    <tr>\n",
       "      <th>1</th>\n",
       "      <td>2001-02-04</td>\n",
       "      <td>1250</td>\n",
       "      <td>4718585391203</td>\n",
       "      <td>2</td>\n",
       "    </tr>\n",
       "    <tr>\n",
       "      <th>2</th>\n",
       "      <td>2000-12-04</td>\n",
       "      <td>1359</td>\n",
       "      <td>5010415080073</td>\n",
       "      <td>2</td>\n",
       "    </tr>\n",
       "    <tr>\n",
       "      <th>3</th>\n",
       "      <td>2001-01-24</td>\n",
       "      <td>1823</td>\n",
       "      <td>78698703015</td>\n",
       "      <td>1</td>\n",
       "    </tr>\n",
       "    <tr>\n",
       "      <th>4</th>\n",
       "      <td>2000-12-02</td>\n",
       "      <td>2189</td>\n",
       "      <td>4711713370378</td>\n",
       "      <td>1</td>\n",
       "    </tr>\n",
       "  </tbody>\n",
       "</table>\n",
       "</div>"
      ],
      "text/plain": [
       "  TRANSACTION_DT  CUSTOMER_ID     PRODUCT_ID  AMOUNT\n",
       "0     2000-11-27         1113  4710905340113       1\n",
       "1     2001-02-04         1250  4718585391203       2\n",
       "2     2000-12-04         1359  5010415080073       2\n",
       "3     2001-01-24         1823    78698703015       1\n",
       "4     2000-12-02         2189  4711713370378       1"
      ]
     },
     "execution_count": 4,
     "metadata": {},
     "output_type": "execute_result"
    }
   ],
   "source": [
    "\n",
    "df_sample['TRANSACTION_DT'] = pd.to_datetime(df_sample['TRANSACTION_DT'])\n",
    "\n",
    "# Sort by CUSTOMER_ID and TRANSACTION_DT\n",
    "df_sample.sort_values(by=['CUSTOMER_ID', 'TRANSACTION_DT'], inplace=True)\n",
    "\n",
    "\n",
    "df_sample = df_sample[df_sample['AMOUNT'] > 0]\n",
    "\n",
    "df_sample = df_sample[['TRANSACTION_DT', 'CUSTOMER_ID', 'PRODUCT_ID', 'AMOUNT']]\n",
    "\n",
    "\n",
    "df_sample.dropna(inplace=True)\n",
    "\n",
    "df_sample.reset_index(drop=True, inplace=True)\n",
    "\n",
    "df_sample.head() \n"
   ]
  },
  {
   "cell_type": "code",
   "execution_count": 5,
   "metadata": {
    "colab": {
     "base_uri": "https://localhost:8080/"
    },
    "id": "1cv2vOH8sT4G",
    "outputId": "eb8a8425-b934-4073-bac0-1d8d850848a4"
   },
   "outputs": [
    {
     "name": "stdout",
     "output_type": "stream",
     "text": [
      "   CUSTOMER_INDEX TRANSACTION_DT  BASKET\n",
      "0               0     2000-11-27     [0]\n",
      "1               1     2001-02-04     [1]\n",
      "2               2     2000-12-04     [2]\n",
      "3               3     2001-01-24     [3]\n",
      "4               4     2000-12-02  [4, 5]\n"
     ]
    }
   ],
   "source": [
    "\n",
    "customer_id_mapping = {id: index for index, id in enumerate(df_sample['CUSTOMER_ID'].unique())}\n",
    "product_id_mapping = {id: index for index, id in enumerate(df_sample['PRODUCT_ID'].unique())}\n",
    "\n",
    "\n",
    "df_sample['CUSTOMER_INDEX'] = df_sample['CUSTOMER_ID'].map(customer_id_mapping)\n",
    "df_sample['PRODUCT_INDEX'] = df_sample['PRODUCT_ID'].map(product_id_mapping)\n",
    "\n",
    "\n",
    "grouped = df_sample.groupby(['CUSTOMER_INDEX', 'TRANSACTION_DT'])\n",
    "baskets = grouped['PRODUCT_INDEX'].apply(list).reset_index(name='BASKET')\n",
    "\n",
    "print(baskets.head())\n"
   ]
  },
  {
   "cell_type": "code",
   "execution_count": 6,
   "metadata": {
    "id": "Z8ucEaQ0wPaJ"
   },
   "outputs": [],
   "source": [
    "import numpy as np\n",
    "\n",
    "# Define the sigmoid function\n",
    "def sigmoid(x):\n",
    "    return 1 / (1 + np.exp(-x))\n",
    "\n",
    "def bfm_score(user_index, item_index, basket_indices, user_factors, item_factors, \n",
    "                      global_bias, user_biases, item_biases, gammas):\n",
    "    \"\"\"\n",
    "    Compute the score for a given user, target item, and basket of items using the BFM model.\n",
    "    \"\"\"\n",
    " \n",
    "    user_item_interaction = np.dot(user_factors[user_index], item_factors[item_index])\n",
    "    \n",
    "\n",
    "    basket_target_interaction = np.sum([\n",
    "        np.dot(item_factors[item_index], item_factors[basket_item]) for basket_item in basket_indices\n",
    "    ])\n",
    "    \n",
    "    \n",
    "    basket_basket_interaction = 0  # As gamma3 is 0, this term is not used\n",
    "    \n",
    "    \n",
    "    user_basket_interaction = np.sum([\n",
    "        np.dot(user_factors[user_index], item_factors[basket_item]) for basket_item in basket_indices\n",
    "    ])\n",
    "    \n",
    "\n",
    "    score = global_bias + user_biases[user_index] + item_biases[item_index] + \\\n",
    "            gammas['gamma1'] * user_item_interaction + \\\n",
    "            gammas['gamma2'] * basket_target_interaction + \\\n",
    "            gammas['gamma3'] * basket_basket_interaction + \\\n",
    "            gammas['gamma4'] * user_basket_interaction\n",
    "    \n",
    "    return sigmoid(score)  \n",
    "\n"
   ]
  },
  {
   "cell_type": "code",
   "execution_count": 7,
   "metadata": {
    "id": "a54XUgkSzLVt"
   },
   "outputs": [],
   "source": [
    "from sklearn.model_selection import train_test_split\n",
    "\n",
    "# Define gammas as per your model's specifics\n",
    "gammas = {'gamma1': 1, 'gamma2': 1, 'gamma3': 0, 'gamma4': 0}\n",
    "\n",
    "\n",
    "train_baskets, test_baskets = train_test_split(baskets, test_size=0.2, random_state=42)\n",
    "\n",
    "# Example dummy latent factors and biases, replace with your actual trained values\n",
    "num_users = df_sample['CUSTOMER_ID'].nunique()\n",
    "num_items = df_sample['PRODUCT_ID'].nunique()\n",
    "num_factors = 8 \n",
    "\n",
    "np.random.seed(42)\n",
    "user_factors = np.random.normal(0, 0.1, (num_users, num_factors))\n",
    "item_factors = np.random.normal(0, 0.1, (num_items, num_factors))\n",
    "user_biases = np.random.normal(0, 0.1, num_users)\n",
    "item_biases = np.random.normal(0, 0.1, num_items)\n",
    "global_bias = np.random.normal()"
   ]
  },
  {
   "cell_type": "code",
   "execution_count": 8,
   "metadata": {
    "colab": {
     "base_uri": "https://localhost:8080/"
    },
    "id": "AWpOb1siW6BS",
    "outputId": "80e09be8-ac3f-4ade-d130-dd794e8ad420"
   },
   "outputs": [
    {
     "data": {
      "text/plain": [
       "((29139, 3), (7285, 3))"
      ]
     },
     "execution_count": 8,
     "metadata": {},
     "output_type": "execute_result"
    }
   ],
   "source": [
    "train_baskets.shape, test_baskets.shape"
   ]
  },
  {
   "cell_type": "code",
   "execution_count": 9,
   "metadata": {},
   "outputs": [
    {
     "name": "stdout",
     "output_type": "stream",
     "text": [
      "HLU: 0.914109646982235\n"
     ]
    }
   ],
   "source": [
    "import numpy as np\n",
    "import pandas as pd\n",
    "\n",
    "\n",
    "def sigmoid(x):\n",
    "    return 1 / (1 + np.exp(-x))\n",
    "\n",
    "\n",
    "def bfm_score_updated(user_index, item_index, basket_indices, user_factors, item_factors, \n",
    "                      global_bias, user_biases, item_biases, gammas):\n",
    "    \n",
    "    user_item_interaction = np.dot(user_factors[user_index], item_factors[item_index])\n",
    "    \n",
    "    \n",
    "    basket_target_interaction = sum(\n",
    "        np.dot(item_factors[item_index], item_factors[basket_item]) for basket_item in basket_indices\n",
    "    )\n",
    "    \n",
    "    basket_basket_interaction = sum(\n",
    "        np.dot(item_factors[item_i], item_factors[item_j])\n",
    "        for idx_i, item_i in enumerate(basket_indices)\n",
    "        for item_j in basket_indices[idx_i + 1:]\n",
    "    )\n",
    "    \n",
    " \n",
    "    user_basket_interaction = sum(\n",
    "        np.dot(user_factors[user_index], item_factors[basket_item]) for basket_item in basket_indices\n",
    "    )\n",
    "\n",
    "    score = (global_bias + user_biases[user_index] + item_biases[item_index] +\n",
    "             gammas['gamma1'] * user_item_interaction +\n",
    "             gammas['gamma2'] * basket_target_interaction +\n",
    "             gammas['gamma3'] * basket_basket_interaction + \n",
    "             gammas['gamma4'] * user_basket_interaction)\n",
    "    \n",
    "    return sigmoid(score)  \n",
    "\n",
    "\n",
    "def calculate_hlu(user_factors, item_factors, user_biases, item_biases, global_bias, test_baskets, gammas, beta=5, C=100):\n",
    "    hlu_sum = 0\n",
    "    num_items = item_factors.shape[0]  \n",
    "    for index, row in test_baskets.iterrows():\n",
    "        user_idx = row['CUSTOMER_INDEX']\n",
    "        basket = row['BASKET']  # This should be a list of actual items in the basket\n",
    "        \n",
    "       \n",
    "        predictions = np.array([\n",
    "            bfm_score_updated(user_idx, item_idx, basket, user_factors, item_factors, global_bias, user_biases, item_biases, gammas)\n",
    "            for item_idx in range(num_items)\n",
    "        ])\n",
    "        \n",
    "        sorted_indices = np.argsort(predictions)[::-1]  # Descending order\n",
    "        \n",
    "      \n",
    "        item_ranks = {item: rank for rank, item in enumerate(sorted_indices, start=1)}\n",
    "      \n",
    "        for item_idx in basket:\n",
    "            rank = item_ranks.get(item_idx, len(predictions) + 1)  # Default rank if not found\n",
    "        \n",
    "            hlu_contribution = C * (0.5 ** ((rank - 1) / (beta - 1)))\n",
    "            hlu_sum += hlu_contribution\n",
    "    \n",
    "\n",
    "    hlu = hlu_sum / test_baskets.shape[0]\n",
    "    return hlu\n",
    "\n",
    "hlu_score = calculate_hlu(user_factors, item_factors, user_biases, item_biases, global_bias, test_baskets, gammas)\n",
    "print(f'HLU: {hlu_score}')\n"
   ]
  },
  {
   "cell_type": "code",
   "execution_count": null,
   "metadata": {},
   "outputs": [],
   "source": []
  },
  {
   "cell_type": "code",
   "execution_count": null,
   "metadata": {},
   "outputs": [],
   "source": []
  }
 ],
 "metadata": {
  "accelerator": "GPU",
  "colab": {
   "gpuType": "T4",
   "provenance": []
  },
  "kernelspec": {
   "display_name": "Python 3 (ipykernel)",
   "language": "python",
   "name": "python3"
  },
  "language_info": {
   "codemirror_mode": {
    "name": "ipython",
    "version": 3
   },
   "file_extension": ".py",
   "mimetype": "text/x-python",
   "name": "python",
   "nbconvert_exporter": "python",
   "pygments_lexer": "ipython3",
   "version": "3.11.8"
  }
 },
 "nbformat": 4,
 "nbformat_minor": 4
}
